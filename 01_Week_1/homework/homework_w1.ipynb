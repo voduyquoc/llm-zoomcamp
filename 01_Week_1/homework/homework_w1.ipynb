{
 "cells": [
  {
   "cell_type": "code",
   "execution_count": 1,
   "id": "f51ca03d-a97d-4306-850d-73b7faa2a494",
   "metadata": {},
   "outputs": [],
   "source": [
    "import requests \n",
    "\n",
    "docs_url = 'https://github.com/DataTalksClub/llm-zoomcamp/blob/main/01-intro/documents.json?raw=1'\n",
    "docs_response = requests.get(docs_url)\n",
    "documents_raw = docs_response.json()\n",
    "\n",
    "documents = []\n",
    "\n",
    "for course in documents_raw:\n",
    "    course_name = course['course']\n",
    "\n",
    "    for doc in course['documents']:\n",
    "        doc['course'] = course_name\n",
    "        documents.append(doc)"
   ]
  },
  {
   "cell_type": "code",
   "execution_count": 2,
   "id": "796487f7-7d8f-4aea-8412-057139d3a90c",
   "metadata": {},
   "outputs": [
    {
     "data": {
      "text/plain": [
       "{'text': \"The purpose of this document is to capture frequently asked technical questions\\nThe exact day and hour of the course will be 15th Jan 2024 at 17h00. The course will start with the first  “Office Hours'' live.1\\nSubscribe to course public Google Calendar (it works from Desktop only).\\nRegister before the course starts using this link.\\nJoin the course Telegram channel with announcements.\\nDon’t forget to register in DataTalks.Club's Slack and join the channel.\",\n",
       " 'section': 'General course-related questions',\n",
       " 'question': 'Course - When will the course start?',\n",
       " 'course': 'data-engineering-zoomcamp'}"
      ]
     },
     "execution_count": 2,
     "metadata": {},
     "output_type": "execute_result"
    }
   ],
   "source": [
    "documents[0]"
   ]
  },
  {
   "cell_type": "code",
   "execution_count": 3,
   "id": "82b6d112-c4dd-4326-b1fa-2c0390c13f8f",
   "metadata": {},
   "outputs": [],
   "source": [
    "from elasticsearch import Elasticsearch\n",
    "from tqdm.auto import tqdm"
   ]
  },
  {
   "cell_type": "code",
   "execution_count": 4,
   "id": "3ded0592-4ef8-4607-8078-c6e6b569052c",
   "metadata": {},
   "outputs": [],
   "source": [
    "es_client = Elasticsearch('http://localhost:9200') "
   ]
  },
  {
   "cell_type": "code",
   "execution_count": 7,
   "id": "5d08ce20-2c10-4b4d-a784-7a7736f69fb2",
   "metadata": {},
   "outputs": [
    {
     "data": {
      "text/plain": [
       "ObjectApiResponse({'name': '7e12161009fc', 'cluster_name': 'docker-cluster', 'cluster_uuid': 'lJi7qdP7QbyzWZP9XKDkbg', 'version': {'number': '8.4.3', 'build_flavor': 'default', 'build_type': 'docker', 'build_hash': '42f05b9372a9a4a470db3b52817899b99a76ee73', 'build_date': '2022-10-04T07:17:24.662462378Z', 'build_snapshot': False, 'lucene_version': '9.3.0', 'minimum_wire_compatibility_version': '7.17.0', 'minimum_index_compatibility_version': '7.0.0'}, 'tagline': 'You Know, for Search'})"
      ]
     },
     "execution_count": 7,
     "metadata": {},
     "output_type": "execute_result"
    }
   ],
   "source": [
    "es_client.info()"
   ]
  },
  {
   "cell_type": "code",
   "execution_count": 5,
   "id": "ebb0d69e-7c32-4f47-aaf7-5f28927cae23",
   "metadata": {},
   "outputs": [
    {
     "data": {
      "text/plain": [
       "ObjectApiResponse({'acknowledged': True, 'shards_acknowledged': True, 'index': 'course-questions'})"
      ]
     },
     "execution_count": 5,
     "metadata": {},
     "output_type": "execute_result"
    }
   ],
   "source": [
    "index_settings = {\n",
    "    \"settings\": {\n",
    "        \"number_of_shards\": 1,\n",
    "        \"number_of_replicas\": 0\n",
    "    },\n",
    "    \"mappings\": {\n",
    "        \"properties\": {\n",
    "            \"text\": {\"type\": \"text\"},\n",
    "            \"section\": {\"type\": \"text\"},\n",
    "            \"question\": {\"type\": \"text\"},\n",
    "            \"course\": {\"type\": \"keyword\"} \n",
    "        }\n",
    "    }\n",
    "}\n",
    "\n",
    "index_name = \"course-questions\"\n",
    "\n",
    "es_client.indices.create(index=index_name, body=index_settings)"
   ]
  },
  {
   "cell_type": "code",
   "execution_count": 6,
   "id": "d54db8bd-9d7b-4259-b841-84cd21292b42",
   "metadata": {},
   "outputs": [
    {
     "data": {
      "application/vnd.jupyter.widget-view+json": {
       "model_id": "8ca0cb0b8d5a42ff91f5c1ad35fc4f16",
       "version_major": 2,
       "version_minor": 0
      },
      "text/plain": [
       "  0%|          | 0/948 [00:00<?, ?it/s]"
      ]
     },
     "metadata": {},
     "output_type": "display_data"
    }
   ],
   "source": [
    "for doc in tqdm(documents):\n",
    "    es_client.index(index=index_name, document=doc)"
   ]
  },
  {
   "cell_type": "code",
   "execution_count": 8,
   "id": "73a1c5b4-653d-4dde-9dfe-486a3565625b",
   "metadata": {},
   "outputs": [],
   "source": [
    "query = 'How do I execute a command in a running docker container?'"
   ]
  },
  {
   "cell_type": "code",
   "execution_count": 9,
   "id": "6023ffae-a8dd-42a4-bd09-3c8e4c65810d",
   "metadata": {},
   "outputs": [],
   "source": [
    "search_query = {\n",
    "        \"size\": 5,\n",
    "        \"query\": {\n",
    "            \"bool\": {\n",
    "                \"must\": {\n",
    "                    \"multi_match\": {\n",
    "                        \"query\": query,\n",
    "                        \"fields\": [\"question^4\", \"text\"],\n",
    "                        \"type\": \"best_fields\"\n",
    "                    }\n",
    "                }\n",
    "            }\n",
    "        }\n",
    "    }"
   ]
  },
  {
   "cell_type": "code",
   "execution_count": 10,
   "id": "1e454090-58a8-4298-b3c7-3cad07191fe2",
   "metadata": {},
   "outputs": [],
   "source": [
    "response = es_client.search(index=index_name, body=search_query)"
   ]
  },
  {
   "cell_type": "code",
   "execution_count": 14,
   "id": "449f325e-88a3-4db9-bc1f-23a345f75662",
   "metadata": {},
   "outputs": [
    {
     "data": {
      "text/plain": [
       "[{'_index': 'course-questions',\n",
       "  '_id': 'RonbYJAB_hj2oUjxJkSq',\n",
       "  '_score': 84.050095,\n",
       "  '_source': {'text': 'Launch the container image in interactive mode and overriding the entrypoint, so that it starts a bash command.\\ndocker run -it --entrypoint bash <image>\\nIf the container is already running, execute a command in the specific container:\\ndocker ps (find the container-id)\\ndocker exec -it <container-id> bash\\n(Marcos MJD)',\n",
       "   'section': '5. Deploying Machine Learning Models',\n",
       "   'question': 'How do I debug a docker container?',\n",
       "   'course': 'machine-learning-zoomcamp'}},\n",
       " {'_index': 'course-questions',\n",
       "  '_id': 'VInaYJAB_hj2oUjx_UI1',\n",
       "  '_score': 75.54128,\n",
       "  '_source': {'text': 'In case running pgcli  locally causes issues or you do not want to install it locally you can use it running in a Docker container instead.\\nBelow the usage with values used in the videos of the course for:\\nnetwork name (docker network)\\npostgres related variables for pgcli\\nHostname\\nUsername\\nPort\\nDatabase name\\n$ docker run -it --rm --network pg-network ai2ys/dockerized-pgcli:4.0.1\\n175dd47cda07:/# pgcli -h pg-database -U root -p 5432 -d ny_taxi\\nPassword for root:\\nServer: PostgreSQL 16.1 (Debian 16.1-1.pgdg120+1)\\nVersion: 4.0.1\\nHome: http://pgcli.com\\nroot@pg-database:ny_taxi> \\\\dt\\n+--------+------------------+-------+-------+\\n| Schema | Name             | Type  | Owner |\\n|--------+------------------+-------+-------|\\n| public | yellow_taxi_data | table | root  |\\n+--------+------------------+-------+-------+\\nSELECT 1\\nTime: 0.009s\\nroot@pg-database:ny_taxi>',\n",
       "   'section': 'Module 1: Docker and Terraform',\n",
       "   'question': 'PGCLI - running in a Docker container',\n",
       "   'course': 'data-engineering-zoomcamp'}},\n",
       " {'_index': 'course-questions',\n",
       "  '_id': 'dYnbYJAB_hj2oUjxP0Vu',\n",
       "  '_score': 72.08518,\n",
       "  '_source': {'text': 'If you are trying to run Flask gunicorn & MLFlow server from the same container, defining both in Dockerfile with CMD will only run MLFlow & not Flask.\\nSolution: Create separate shell script with server run commands, for eg:\\n> \\tscript1.sh\\n#!/bin/bash\\ngunicorn --bind=0.0.0.0:9696 predict:app\\nAnother script with e.g. MLFlow server:\\n>\\tscript2.sh\\n#!/bin/bash\\nmlflow server -h 0.0.0.0 -p 5000 --backend-store-uri=sqlite:///mlflow.db --default-artifact-root=g3://zc-bucket/mlruns/\\nCreate a wrapper script to run above 2 scripts:\\n>\\twrapper_script.sh\\n#!/bin/bash\\n# Start the first process\\n./script1.sh &\\n# Start the second process\\n./script2.sh &\\n# Wait for any process to exit\\nwait -n\\n# Exit with status of process that exited first\\nexit $?\\nGive executable permissions to all scripts:\\nchmod +x *.sh\\nNow we can define last line of Dockerfile as:\\n> \\tDockerfile\\nCMD ./wrapper_script.sh\\nDont forget to expose all ports defined by services!',\n",
       "   'section': 'Module 4: Deployment',\n",
       "   'question': 'Running multiple services in a Docker container',\n",
       "   'course': 'mlops-zoomcamp'}},\n",
       " {'_index': 'course-questions',\n",
       "  '_id': 'ZYnbYJAB_hj2oUjxKURI',\n",
       "  '_score': 51.04628,\n",
       "  '_source': {'text': \"You can copy files from your local machine into a Docker container using the docker cp command. Here's how to do it:\\nTo copy a file or directory from your local machine into a running Docker container, you can use the `docker cp command`. The basic syntax is as follows:\\ndocker cp /path/to/local/file_or_directory container_id:/path/in/container\\nHrithik Kumar Advani\",\n",
       "   'section': '5. Deploying Machine Learning Models',\n",
       "   'question': 'How do I copy files from my local machine to docker container?',\n",
       "   'course': 'machine-learning-zoomcamp'}},\n",
       " {'_index': 'course-questions',\n",
       "  '_id': 'ZonbYJAB_hj2oUjxKURf',\n",
       "  '_score': 49.938507,\n",
       "  '_source': {'text': 'You can copy files from your local machine into a Docker container using the docker cp command. Here\\'s how to do it:\\nIn the Dockerfile, you can provide the folder containing the files that you want to copy over. The basic syntax is as follows:\\nCOPY [\"src/predict.py\", \"models/xgb_model.bin\", \"./\"]\\t\\t\\t\\t\\t\\t\\t\\t\\t\\t\\tGopakumar Gopinathan',\n",
       "   'section': '5. Deploying Machine Learning Models',\n",
       "   'question': 'How do I copy files from a different folder into docker container’s working directory?',\n",
       "   'course': 'machine-learning-zoomcamp'}}]"
      ]
     },
     "execution_count": 14,
     "metadata": {},
     "output_type": "execute_result"
    }
   ],
   "source": [
    "response['hits']['hits']"
   ]
  },
  {
   "cell_type": "code",
   "execution_count": 15,
   "id": "9bb795f8-dbb5-4441-bb53-8d76bb37d862",
   "metadata": {},
   "outputs": [],
   "source": [
    "search_query = {\n",
    "        \"size\": 3,\n",
    "        \"query\": {\n",
    "            \"bool\": {\n",
    "                \"must\": {\n",
    "                    \"multi_match\": {\n",
    "                        \"query\": query,\n",
    "                        \"fields\": [\"question^4\", \"text\"],\n",
    "                        \"type\": \"best_fields\"\n",
    "                    }\n",
    "                },\n",
    "                \"filter\": {\n",
    "                    \"term\": {\n",
    "                        \"course\": \"machine-learning-zoomcamp\"\n",
    "                    }\n",
    "                }\n",
    "            }\n",
    "        }\n",
    "    }"
   ]
  },
  {
   "cell_type": "code",
   "execution_count": 16,
   "id": "71fb8198-c9c4-47ac-90f3-73b4f1703546",
   "metadata": {},
   "outputs": [],
   "source": [
    "response = es_client.search(index=index_name, body=search_query)"
   ]
  },
  {
   "cell_type": "code",
   "execution_count": 17,
   "id": "73cc7082-a741-4f8f-bcb8-c376235fabb1",
   "metadata": {},
   "outputs": [
    {
     "data": {
      "text/plain": [
       "[{'_index': 'course-questions',\n",
       "  '_id': 'RonbYJAB_hj2oUjxJkSq',\n",
       "  '_score': 84.050095,\n",
       "  '_source': {'text': 'Launch the container image in interactive mode and overriding the entrypoint, so that it starts a bash command.\\ndocker run -it --entrypoint bash <image>\\nIf the container is already running, execute a command in the specific container:\\ndocker ps (find the container-id)\\ndocker exec -it <container-id> bash\\n(Marcos MJD)',\n",
       "   'section': '5. Deploying Machine Learning Models',\n",
       "   'question': 'How do I debug a docker container?',\n",
       "   'course': 'machine-learning-zoomcamp'}},\n",
       " {'_index': 'course-questions',\n",
       "  '_id': 'ZYnbYJAB_hj2oUjxKURI',\n",
       "  '_score': 51.04628,\n",
       "  '_source': {'text': \"You can copy files from your local machine into a Docker container using the docker cp command. Here's how to do it:\\nTo copy a file or directory from your local machine into a running Docker container, you can use the `docker cp command`. The basic syntax is as follows:\\ndocker cp /path/to/local/file_or_directory container_id:/path/in/container\\nHrithik Kumar Advani\",\n",
       "   'section': '5. Deploying Machine Learning Models',\n",
       "   'question': 'How do I copy files from my local machine to docker container?',\n",
       "   'course': 'machine-learning-zoomcamp'}},\n",
       " {'_index': 'course-questions',\n",
       "  '_id': 'ZonbYJAB_hj2oUjxKURf',\n",
       "  '_score': 49.938507,\n",
       "  '_source': {'text': 'You can copy files from your local machine into a Docker container using the docker cp command. Here\\'s how to do it:\\nIn the Dockerfile, you can provide the folder containing the files that you want to copy over. The basic syntax is as follows:\\nCOPY [\"src/predict.py\", \"models/xgb_model.bin\", \"./\"]\\t\\t\\t\\t\\t\\t\\t\\t\\t\\t\\tGopakumar Gopinathan',\n",
       "   'section': '5. Deploying Machine Learning Models',\n",
       "   'question': 'How do I copy files from a different folder into docker container’s working directory?',\n",
       "   'course': 'machine-learning-zoomcamp'}}]"
      ]
     },
     "execution_count": 17,
     "metadata": {},
     "output_type": "execute_result"
    }
   ],
   "source": [
    "response['hits']['hits']"
   ]
  },
  {
   "cell_type": "code",
   "execution_count": 18,
   "id": "c1ee1acd-0c36-4854-9b8a-b983ff3777f5",
   "metadata": {},
   "outputs": [],
   "source": [
    "result_docs = []\n",
    "    \n",
    "for hit in response['hits']['hits']:\n",
    "    result_docs.append(hit['_source'])"
   ]
  },
  {
   "cell_type": "code",
   "execution_count": 19,
   "id": "ec2f6a4f-c234-4f99-a652-da5064088d43",
   "metadata": {},
   "outputs": [
    {
     "data": {
      "text/plain": [
       "[{'text': 'Launch the container image in interactive mode and overriding the entrypoint, so that it starts a bash command.\\ndocker run -it --entrypoint bash <image>\\nIf the container is already running, execute a command in the specific container:\\ndocker ps (find the container-id)\\ndocker exec -it <container-id> bash\\n(Marcos MJD)',\n",
       "  'section': '5. Deploying Machine Learning Models',\n",
       "  'question': 'How do I debug a docker container?',\n",
       "  'course': 'machine-learning-zoomcamp'},\n",
       " {'text': \"You can copy files from your local machine into a Docker container using the docker cp command. Here's how to do it:\\nTo copy a file or directory from your local machine into a running Docker container, you can use the `docker cp command`. The basic syntax is as follows:\\ndocker cp /path/to/local/file_or_directory container_id:/path/in/container\\nHrithik Kumar Advani\",\n",
       "  'section': '5. Deploying Machine Learning Models',\n",
       "  'question': 'How do I copy files from my local machine to docker container?',\n",
       "  'course': 'machine-learning-zoomcamp'},\n",
       " {'text': 'You can copy files from your local machine into a Docker container using the docker cp command. Here\\'s how to do it:\\nIn the Dockerfile, you can provide the folder containing the files that you want to copy over. The basic syntax is as follows:\\nCOPY [\"src/predict.py\", \"models/xgb_model.bin\", \"./\"]\\t\\t\\t\\t\\t\\t\\t\\t\\t\\t\\tGopakumar Gopinathan',\n",
       "  'section': '5. Deploying Machine Learning Models',\n",
       "  'question': 'How do I copy files from a different folder into docker container’s working directory?',\n",
       "  'course': 'machine-learning-zoomcamp'}]"
      ]
     },
     "execution_count": 19,
     "metadata": {},
     "output_type": "execute_result"
    }
   ],
   "source": [
    "result_docs"
   ]
  },
  {
   "cell_type": "code",
   "execution_count": 22,
   "id": "63997e8e-4bb3-46aa-875d-3f6c2556c78d",
   "metadata": {},
   "outputs": [],
   "source": [
    "def format_context(result_docs):\n",
    "    context_template = \"\"\"\n",
    "Q: {question}\n",
    "A: {text}\n",
    "\"\"\".strip()\n",
    "\n",
    "    formatted_entries = [\n",
    "        context_template.format(question=doc['question'], text=doc['text'])\n",
    "        for doc in result_docs\n",
    "    ]\n",
    "    \n",
    "    return \"\\n\\n\".join(formatted_entries)"
   ]
  },
  {
   "cell_type": "code",
   "execution_count": 23,
   "id": "d8093e1e-1581-40f6-bfc2-083b78698b2c",
   "metadata": {},
   "outputs": [],
   "source": [
    "context = format_context(result_docs)"
   ]
  },
  {
   "cell_type": "code",
   "execution_count": 25,
   "id": "f125cc3d-fe74-4af1-9e8c-1a98b2d98754",
   "metadata": {},
   "outputs": [
    {
     "name": "stdout",
     "output_type": "stream",
     "text": [
      "Q: How do I debug a docker container?\n",
      "A: Launch the container image in interactive mode and overriding the entrypoint, so that it starts a bash command.\n",
      "docker run -it --entrypoint bash <image>\n",
      "If the container is already running, execute a command in the specific container:\n",
      "docker ps (find the container-id)\n",
      "docker exec -it <container-id> bash\n",
      "(Marcos MJD)\n",
      "\n",
      "Q: How do I copy files from my local machine to docker container?\n",
      "A: You can copy files from your local machine into a Docker container using the docker cp command. Here's how to do it:\n",
      "To copy a file or directory from your local machine into a running Docker container, you can use the `docker cp command`. The basic syntax is as follows:\n",
      "docker cp /path/to/local/file_or_directory container_id:/path/in/container\n",
      "Hrithik Kumar Advani\n",
      "\n",
      "Q: How do I copy files from a different folder into docker container’s working directory?\n",
      "A: You can copy files from your local machine into a Docker container using the docker cp command. Here's how to do it:\n",
      "In the Dockerfile, you can provide the folder containing the files that you want to copy over. The basic syntax is as follows:\n",
      "COPY [\"src/predict.py\", \"models/xgb_model.bin\", \"./\"]\t\t\t\t\t\t\t\t\t\t\tGopakumar Gopinathan\n"
     ]
    }
   ],
   "source": [
    "print(context)"
   ]
  },
  {
   "cell_type": "code",
   "execution_count": 26,
   "id": "0b3c5749-de4a-4269-95b0-4de217008909",
   "metadata": {},
   "outputs": [],
   "source": [
    "def build_prompt(query, context):\n",
    "    prompt_template = \"\"\"\n",
    "You're a course teaching assistant. Answer the QUESTION based on the CONTEXT from the FAQ database.\n",
    "Use only the facts from the CONTEXT when answering the QUESTION.\n",
    "\n",
    "QUESTION: {question}\n",
    "\n",
    "CONTEXT:\n",
    "{context}\n",
    "\"\"\".strip()\n",
    "\n",
    "    return prompt_template.format(question=query, context=context)"
   ]
  },
  {
   "cell_type": "code",
   "execution_count": 27,
   "id": "190d26cf-3cf9-48d7-9a95-e44961b75b4d",
   "metadata": {},
   "outputs": [],
   "source": [
    "prompt = build_prompt(query, context)"
   ]
  },
  {
   "cell_type": "code",
   "execution_count": 28,
   "id": "c61d640b-db80-4a06-8cf7-401338b08a56",
   "metadata": {},
   "outputs": [
    {
     "name": "stdout",
     "output_type": "stream",
     "text": [
      "You're a course teaching assistant. Answer the QUESTION based on the CONTEXT from the FAQ database.\n",
      "Use only the facts from the CONTEXT when answering the QUESTION.\n",
      "\n",
      "QUESTION: How do I execute a command in a running docker container?\n",
      "\n",
      "CONTEXT:\n",
      "Q: How do I debug a docker container?\n",
      "A: Launch the container image in interactive mode and overriding the entrypoint, so that it starts a bash command.\n",
      "docker run -it --entrypoint bash <image>\n",
      "If the container is already running, execute a command in the specific container:\n",
      "docker ps (find the container-id)\n",
      "docker exec -it <container-id> bash\n",
      "(Marcos MJD)\n",
      "\n",
      "Q: How do I copy files from my local machine to docker container?\n",
      "A: You can copy files from your local machine into a Docker container using the docker cp command. Here's how to do it:\n",
      "To copy a file or directory from your local machine into a running Docker container, you can use the `docker cp command`. The basic syntax is as follows:\n",
      "docker cp /path/to/local/file_or_directory container_id:/path/in/container\n",
      "Hrithik Kumar Advani\n",
      "\n",
      "Q: How do I copy files from a different folder into docker container’s working directory?\n",
      "A: You can copy files from your local machine into a Docker container using the docker cp command. Here's how to do it:\n",
      "In the Dockerfile, you can provide the folder containing the files that you want to copy over. The basic syntax is as follows:\n",
      "COPY [\"src/predict.py\", \"models/xgb_model.bin\", \"./\"]\t\t\t\t\t\t\t\t\t\t\tGopakumar Gopinathan\n"
     ]
    }
   ],
   "source": [
    "print(prompt)"
   ]
  },
  {
   "cell_type": "code",
   "execution_count": 29,
   "id": "053dce19-e5d8-4767-ba84-21c0a0fce442",
   "metadata": {},
   "outputs": [
    {
     "data": {
      "text/plain": [
       "1462"
      ]
     },
     "execution_count": 29,
     "metadata": {},
     "output_type": "execute_result"
    }
   ],
   "source": [
    "len(prompt)"
   ]
  },
  {
   "cell_type": "code",
   "execution_count": 30,
   "id": "3dbde49a-95a7-4d47-9d55-80b450840a8b",
   "metadata": {},
   "outputs": [],
   "source": [
    "import tiktoken"
   ]
  },
  {
   "cell_type": "code",
   "execution_count": 31,
   "id": "857968e4-20ac-4628-bf2e-5fa10449be2f",
   "metadata": {},
   "outputs": [],
   "source": [
    "encoding = tiktoken.encoding_for_model(\"gpt-4o\")"
   ]
  },
  {
   "cell_type": "code",
   "execution_count": 32,
   "id": "eecdc20b-e23e-4a0c-9255-9e82f49108a9",
   "metadata": {},
   "outputs": [],
   "source": [
    "encoded_prompt = encoding.encode(prompt)"
   ]
  },
  {
   "cell_type": "code",
   "execution_count": 33,
   "id": "41de3998-e3e7-4c39-8205-f5f9da8f3c34",
   "metadata": {},
   "outputs": [
    {
     "data": {
      "text/plain": [
       "322"
      ]
     },
     "execution_count": 33,
     "metadata": {},
     "output_type": "execute_result"
    }
   ],
   "source": [
    "len(encoded_prompt)"
   ]
  },
  {
   "cell_type": "code",
   "execution_count": 37,
   "id": "df447cb4-262d-4351-a0e7-abae75479071",
   "metadata": {},
   "outputs": [],
   "source": [
    "decoded_prompt = []\n",
    "for token in encoded_prompt:\n",
    "    decoded_prompt.append(encoding.decode_single_token_bytes(token))"
   ]
  },
  {
   "cell_type": "code",
   "execution_count": 38,
   "id": "9c53ec3b-9150-42af-9b8d-484467caea93",
   "metadata": {},
   "outputs": [
    {
     "data": {
      "text/plain": [
       "[b\"You're\",\n",
       " b' a',\n",
       " b' course',\n",
       " b' teaching',\n",
       " b' assistant',\n",
       " b'.',\n",
       " b' Answer',\n",
       " b' the',\n",
       " b' QUESTION',\n",
       " b' based',\n",
       " b' on',\n",
       " b' the',\n",
       " b' CONT',\n",
       " b'EXT',\n",
       " b' from',\n",
       " b' the',\n",
       " b' FAQ',\n",
       " b' database',\n",
       " b'.\\n',\n",
       " b'Use',\n",
       " b' only',\n",
       " b' the',\n",
       " b' facts',\n",
       " b' from',\n",
       " b' the',\n",
       " b' CONT',\n",
       " b'EXT',\n",
       " b' when',\n",
       " b' answering',\n",
       " b' the',\n",
       " b' QUESTION',\n",
       " b'.\\n\\n',\n",
       " b'QUESTION',\n",
       " b':',\n",
       " b' How',\n",
       " b' do',\n",
       " b' I',\n",
       " b' execute',\n",
       " b' a',\n",
       " b' command',\n",
       " b' in',\n",
       " b' a',\n",
       " b' running',\n",
       " b' docker',\n",
       " b' container',\n",
       " b'?\\n\\n',\n",
       " b'CON',\n",
       " b'TEXT',\n",
       " b':\\n',\n",
       " b'Q',\n",
       " b':',\n",
       " b' How',\n",
       " b' do',\n",
       " b' I',\n",
       " b' debug',\n",
       " b' a',\n",
       " b' docker',\n",
       " b' container',\n",
       " b'?\\n',\n",
       " b'A',\n",
       " b':',\n",
       " b' Launch',\n",
       " b' the',\n",
       " b' container',\n",
       " b' image',\n",
       " b' in',\n",
       " b' interactive',\n",
       " b' mode',\n",
       " b' and',\n",
       " b' overriding',\n",
       " b' the',\n",
       " b' entry',\n",
       " b'point',\n",
       " b',',\n",
       " b' so',\n",
       " b' that',\n",
       " b' it',\n",
       " b' starts',\n",
       " b' a',\n",
       " b' bash',\n",
       " b' command',\n",
       " b'.\\n',\n",
       " b'docker',\n",
       " b' run',\n",
       " b' -',\n",
       " b'it',\n",
       " b' --',\n",
       " b'entry',\n",
       " b'point',\n",
       " b' bash',\n",
       " b' <',\n",
       " b'image',\n",
       " b'>\\n',\n",
       " b'If',\n",
       " b' the',\n",
       " b' container',\n",
       " b' is',\n",
       " b' already',\n",
       " b' running',\n",
       " b',',\n",
       " b' execute',\n",
       " b' a',\n",
       " b' command',\n",
       " b' in',\n",
       " b' the',\n",
       " b' specific',\n",
       " b' container',\n",
       " b':\\n',\n",
       " b'docker',\n",
       " b' ps',\n",
       " b' (',\n",
       " b'find',\n",
       " b' the',\n",
       " b' container',\n",
       " b'-id',\n",
       " b')\\n',\n",
       " b'docker',\n",
       " b' exec',\n",
       " b' -',\n",
       " b'it',\n",
       " b' <',\n",
       " b'container',\n",
       " b'-id',\n",
       " b'>',\n",
       " b' bash',\n",
       " b'\\n',\n",
       " b'(M',\n",
       " b'ar',\n",
       " b'cos',\n",
       " b' M',\n",
       " b'JD',\n",
       " b')\\n\\n',\n",
       " b'Q',\n",
       " b':',\n",
       " b' How',\n",
       " b' do',\n",
       " b' I',\n",
       " b' copy',\n",
       " b' files',\n",
       " b' from',\n",
       " b' my',\n",
       " b' local',\n",
       " b' machine',\n",
       " b' to',\n",
       " b' docker',\n",
       " b' container',\n",
       " b'?\\n',\n",
       " b'A',\n",
       " b':',\n",
       " b' You',\n",
       " b' can',\n",
       " b' copy',\n",
       " b' files',\n",
       " b' from',\n",
       " b' your',\n",
       " b' local',\n",
       " b' machine',\n",
       " b' into',\n",
       " b' a',\n",
       " b' Docker',\n",
       " b' container',\n",
       " b' using',\n",
       " b' the',\n",
       " b' docker',\n",
       " b' cp',\n",
       " b' command',\n",
       " b'.',\n",
       " b\" Here's\",\n",
       " b' how',\n",
       " b' to',\n",
       " b' do',\n",
       " b' it',\n",
       " b':\\n',\n",
       " b'To',\n",
       " b' copy',\n",
       " b' a',\n",
       " b' file',\n",
       " b' or',\n",
       " b' directory',\n",
       " b' from',\n",
       " b' your',\n",
       " b' local',\n",
       " b' machine',\n",
       " b' into',\n",
       " b' a',\n",
       " b' running',\n",
       " b' Docker',\n",
       " b' container',\n",
       " b',',\n",
       " b' you',\n",
       " b' can',\n",
       " b' use',\n",
       " b' the',\n",
       " b' `',\n",
       " b'docker',\n",
       " b' cp',\n",
       " b' command',\n",
       " b'`.',\n",
       " b' The',\n",
       " b' basic',\n",
       " b' syntax',\n",
       " b' is',\n",
       " b' as',\n",
       " b' follows',\n",
       " b':\\n',\n",
       " b'docker',\n",
       " b' cp',\n",
       " b' /',\n",
       " b'path',\n",
       " b'/to',\n",
       " b'/local',\n",
       " b'/file',\n",
       " b'_or',\n",
       " b'_directory',\n",
       " b' container',\n",
       " b'_id',\n",
       " b':/',\n",
       " b'path',\n",
       " b'/in',\n",
       " b'/container',\n",
       " b'\\n',\n",
       " b'Hr',\n",
       " b'ith',\n",
       " b'ik',\n",
       " b' Kumar',\n",
       " b' Adv',\n",
       " b'ani',\n",
       " b'\\n\\n',\n",
       " b'Q',\n",
       " b':',\n",
       " b' How',\n",
       " b' do',\n",
       " b' I',\n",
       " b' copy',\n",
       " b' files',\n",
       " b' from',\n",
       " b' a',\n",
       " b' different',\n",
       " b' folder',\n",
       " b' into',\n",
       " b' docker',\n",
       " b' container',\n",
       " b'\\xe2\\x80\\x99s',\n",
       " b' working',\n",
       " b' directory',\n",
       " b'?\\n',\n",
       " b'A',\n",
       " b':',\n",
       " b' You',\n",
       " b' can',\n",
       " b' copy',\n",
       " b' files',\n",
       " b' from',\n",
       " b' your',\n",
       " b' local',\n",
       " b' machine',\n",
       " b' into',\n",
       " b' a',\n",
       " b' Docker',\n",
       " b' container',\n",
       " b' using',\n",
       " b' the',\n",
       " b' docker',\n",
       " b' cp',\n",
       " b' command',\n",
       " b'.',\n",
       " b\" Here's\",\n",
       " b' how',\n",
       " b' to',\n",
       " b' do',\n",
       " b' it',\n",
       " b':\\n',\n",
       " b'In',\n",
       " b' the',\n",
       " b' Docker',\n",
       " b'file',\n",
       " b',',\n",
       " b' you',\n",
       " b' can',\n",
       " b' provide',\n",
       " b' the',\n",
       " b' folder',\n",
       " b' containing',\n",
       " b' the',\n",
       " b' files',\n",
       " b' that',\n",
       " b' you',\n",
       " b' want',\n",
       " b' to',\n",
       " b' copy',\n",
       " b' over',\n",
       " b'.',\n",
       " b' The',\n",
       " b' basic',\n",
       " b' syntax',\n",
       " b' is',\n",
       " b' as',\n",
       " b' follows',\n",
       " b':\\n',\n",
       " b'COPY',\n",
       " b' [\"',\n",
       " b'src',\n",
       " b'/p',\n",
       " b'redict',\n",
       " b'.py',\n",
       " b'\",',\n",
       " b' \"',\n",
       " b'models',\n",
       " b'/x',\n",
       " b'gb',\n",
       " b'_model',\n",
       " b'.bin',\n",
       " b'\",',\n",
       " b' \"./',\n",
       " b'\"]',\n",
       " b'\\t\\t\\t\\t\\t\\t\\t\\t\\t\\t',\n",
       " b'\\tG',\n",
       " b'opak',\n",
       " b'umar',\n",
       " b' G',\n",
       " b'opin',\n",
       " b'athan']"
      ]
     },
     "execution_count": 38,
     "metadata": {},
     "output_type": "execute_result"
    }
   ],
   "source": [
    "decoded_prompt"
   ]
  },
  {
   "cell_type": "code",
   "execution_count": 44,
   "id": "92b84a05-5482-4ee0-ab05-a7f3243376f0",
   "metadata": {},
   "outputs": [],
   "source": [
    "normal_text = normal_text = ''.join(token.decode() for token in decoded_prompt)"
   ]
  },
  {
   "cell_type": "code",
   "execution_count": 45,
   "id": "a9724618-efa1-4d30-9c97-f935fe8cdb99",
   "metadata": {},
   "outputs": [
    {
     "name": "stdout",
     "output_type": "stream",
     "text": [
      "You're a course teaching assistant. Answer the QUESTION based on the CONTEXT from the FAQ database.\n",
      "Use only the facts from the CONTEXT when answering the QUESTION.\n",
      "\n",
      "QUESTION: How do I execute a command in a running docker container?\n",
      "\n",
      "CONTEXT:\n",
      "Q: How do I debug a docker container?\n",
      "A: Launch the container image in interactive mode and overriding the entrypoint, so that it starts a bash command.\n",
      "docker run -it --entrypoint bash <image>\n",
      "If the container is already running, execute a command in the specific container:\n",
      "docker ps (find the container-id)\n",
      "docker exec -it <container-id> bash\n",
      "(Marcos MJD)\n",
      "\n",
      "Q: How do I copy files from my local machine to docker container?\n",
      "A: You can copy files from your local machine into a Docker container using the docker cp command. Here's how to do it:\n",
      "To copy a file or directory from your local machine into a running Docker container, you can use the `docker cp command`. The basic syntax is as follows:\n",
      "docker cp /path/to/local/file_or_directory container_id:/path/in/container\n",
      "Hrithik Kumar Advani\n",
      "\n",
      "Q: How do I copy files from a different folder into docker container’s working directory?\n",
      "A: You can copy files from your local machine into a Docker container using the docker cp command. Here's how to do it:\n",
      "In the Dockerfile, you can provide the folder containing the files that you want to copy over. The basic syntax is as follows:\n",
      "COPY [\"src/predict.py\", \"models/xgb_model.bin\", \"./\"]\t\t\t\t\t\t\t\t\t\t\tGopakumar Gopinathan\n"
     ]
    }
   ],
   "source": [
    "print(normal_text)"
   ]
  },
  {
   "cell_type": "code",
   "execution_count": null,
   "id": "50811ed6-b0f7-4ab6-9999-16d8d346a28e",
   "metadata": {},
   "outputs": [],
   "source": []
  }
 ],
 "metadata": {
  "kernelspec": {
   "display_name": "Python 3 (ipykernel)",
   "language": "python",
   "name": "python3"
  },
  "language_info": {
   "codemirror_mode": {
    "name": "ipython",
    "version": 3
   },
   "file_extension": ".py",
   "mimetype": "text/x-python",
   "name": "python",
   "nbconvert_exporter": "python",
   "pygments_lexer": "ipython3",
   "version": "3.10.13"
  }
 },
 "nbformat": 4,
 "nbformat_minor": 5
}
